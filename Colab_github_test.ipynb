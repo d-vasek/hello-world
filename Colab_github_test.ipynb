{
  "nbformat": 4,
  "nbformat_minor": 0,
  "metadata": {
    "colab": {
      "name": "Colab_github_test.ipynb",
      "provenance": [],
      "authorship_tag": "ABX9TyPdPdTC5Ohpx4QCmZltfHyB",
      "include_colab_link": true
    },
    "kernelspec": {
      "name": "python3",
      "display_name": "Python 3"
    },
    "widgets": {
      "application/vnd.jupyter.widget-state+json": {
        "9fc2453d3e4a4a808cebd5862189a45b": {
          "model_module": "@jupyter-widgets/controls",
          "model_name": "VBoxModel",
          "state": {
            "_view_name": "VBoxView",
            "_dom_classes": [],
            "_model_name": "VBoxModel",
            "_view_module": "@jupyter-widgets/controls",
            "_model_module_version": "1.5.0",
            "_view_count": null,
            "_view_module_version": "1.5.0",
            "box_style": "",
            "layout": "IPY_MODEL_b425601384e441cda549f919a61aab15",
            "_model_module": "@jupyter-widgets/controls",
            "children": [
              "IPY_MODEL_2343c6e967124da8b087f312d142c5cc",
              "IPY_MODEL_a7e3c9f2f3a84ced90d591580ced028e"
            ]
          }
        },
        "b425601384e441cda549f919a61aab15": {
          "model_module": "@jupyter-widgets/base",
          "model_name": "LayoutModel",
          "state": {
            "_view_name": "LayoutView",
            "grid_template_rows": null,
            "right": null,
            "justify_content": null,
            "_view_module": "@jupyter-widgets/base",
            "overflow": null,
            "_model_module_version": "1.2.0",
            "_view_count": null,
            "flex_flow": null,
            "width": "100%",
            "min_width": null,
            "border": null,
            "align_items": "center",
            "bottom": null,
            "_model_module": "@jupyter-widgets/base",
            "top": null,
            "grid_column": null,
            "overflow_y": null,
            "overflow_x": null,
            "grid_auto_flow": null,
            "grid_area": null,
            "grid_template_columns": null,
            "flex": null,
            "_model_name": "LayoutModel",
            "justify_items": null,
            "grid_row": null,
            "max_height": null,
            "align_content": null,
            "visibility": null,
            "align_self": null,
            "height": null,
            "min_height": null,
            "padding": null,
            "grid_auto_rows": null,
            "grid_gap": null,
            "max_width": null,
            "order": null,
            "_view_module_version": "1.2.0",
            "grid_template_areas": null,
            "object_position": null,
            "object_fit": null,
            "grid_auto_columns": null,
            "margin": null,
            "display": "flex",
            "left": null
          }
        },
        "2343c6e967124da8b087f312d142c5cc": {
          "model_module": "@jupyter-widgets/controls",
          "model_name": "LabelModel",
          "state": {
            "_view_name": "LabelView",
            "style": "IPY_MODEL_49b591c315534610ad93696ac7aca71a",
            "_dom_classes": [],
            "description": "",
            "_model_name": "LabelModel",
            "placeholder": "​",
            "_view_module": "@jupyter-widgets/controls",
            "_model_module_version": "1.5.0",
            "value": "I feel satisfied with my job",
            "_view_count": null,
            "_view_module_version": "1.5.0",
            "description_tooltip": null,
            "_model_module": "@jupyter-widgets/controls",
            "layout": "IPY_MODEL_cb9d3d429a624e3cb67319de844f7b2d"
          }
        },
        "a7e3c9f2f3a84ced90d591580ced028e": {
          "model_module": "@jupyter-widgets/controls",
          "model_name": "RadioButtonsModel",
          "state": {
            "_options_labels": [
              "Agree",
              "Somewhat Agree",
              "Somewhat Disagee",
              "Disagree"
            ],
            "_view_name": "RadioButtonsView",
            "style": "IPY_MODEL_67a6a93079c24a1080ea9a111d61f85c",
            "_dom_classes": [],
            "description": "",
            "_model_name": "RadioButtonsModel",
            "index": 0,
            "_view_module": "@jupyter-widgets/controls",
            "_model_module_version": "1.5.0",
            "_view_count": null,
            "disabled": false,
            "_view_module_version": "1.5.0",
            "description_tooltip": null,
            "_model_module": "@jupyter-widgets/controls",
            "layout": "IPY_MODEL_5393e55ac4e14cf0916f02e25fbf8a0f"
          }
        },
        "49b591c315534610ad93696ac7aca71a": {
          "model_module": "@jupyter-widgets/controls",
          "model_name": "DescriptionStyleModel",
          "state": {
            "_view_name": "StyleView",
            "_model_name": "DescriptionStyleModel",
            "description_width": "",
            "_view_module": "@jupyter-widgets/base",
            "_model_module_version": "1.5.0",
            "_view_count": null,
            "_view_module_version": "1.2.0",
            "_model_module": "@jupyter-widgets/controls"
          }
        },
        "cb9d3d429a624e3cb67319de844f7b2d": {
          "model_module": "@jupyter-widgets/base",
          "model_name": "LayoutModel",
          "state": {
            "_view_name": "LayoutView",
            "grid_template_rows": null,
            "right": null,
            "justify_content": null,
            "_view_module": "@jupyter-widgets/base",
            "overflow": null,
            "_model_module_version": "1.2.0",
            "_view_count": null,
            "flex_flow": null,
            "width": null,
            "min_width": null,
            "border": null,
            "align_items": null,
            "bottom": null,
            "_model_module": "@jupyter-widgets/base",
            "top": null,
            "grid_column": null,
            "overflow_y": null,
            "overflow_x": null,
            "grid_auto_flow": null,
            "grid_area": null,
            "grid_template_columns": null,
            "flex": null,
            "_model_name": "LayoutModel",
            "justify_items": null,
            "grid_row": null,
            "max_height": null,
            "align_content": null,
            "visibility": null,
            "align_self": null,
            "height": null,
            "min_height": null,
            "padding": null,
            "grid_auto_rows": null,
            "grid_gap": null,
            "max_width": null,
            "order": null,
            "_view_module_version": "1.2.0",
            "grid_template_areas": null,
            "object_position": null,
            "object_fit": null,
            "grid_auto_columns": null,
            "margin": null,
            "display": null,
            "left": null
          }
        },
        "67a6a93079c24a1080ea9a111d61f85c": {
          "model_module": "@jupyter-widgets/controls",
          "model_name": "DescriptionStyleModel",
          "state": {
            "_view_name": "StyleView",
            "_model_name": "DescriptionStyleModel",
            "description_width": "",
            "_view_module": "@jupyter-widgets/base",
            "_model_module_version": "1.5.0",
            "_view_count": null,
            "_view_module_version": "1.2.0",
            "_model_module": "@jupyter-widgets/controls"
          }
        },
        "5393e55ac4e14cf0916f02e25fbf8a0f": {
          "model_module": "@jupyter-widgets/base",
          "model_name": "LayoutModel",
          "state": {
            "_view_name": "LayoutView",
            "grid_template_rows": null,
            "right": null,
            "justify_content": null,
            "_view_module": "@jupyter-widgets/base",
            "overflow": null,
            "_model_module_version": "1.2.0",
            "_view_count": null,
            "flex_flow": null,
            "width": "max-content",
            "min_width": null,
            "border": null,
            "align_items": null,
            "bottom": null,
            "_model_module": "@jupyter-widgets/base",
            "top": null,
            "grid_column": null,
            "overflow_y": null,
            "overflow_x": null,
            "grid_auto_flow": null,
            "grid_area": null,
            "grid_template_columns": null,
            "flex": null,
            "_model_name": "LayoutModel",
            "justify_items": null,
            "grid_row": null,
            "max_height": null,
            "align_content": null,
            "visibility": null,
            "align_self": null,
            "height": null,
            "min_height": null,
            "padding": null,
            "grid_auto_rows": null,
            "grid_gap": null,
            "max_width": null,
            "order": null,
            "_view_module_version": "1.2.0",
            "grid_template_areas": null,
            "object_position": null,
            "object_fit": null,
            "grid_auto_columns": null,
            "margin": null,
            "display": null,
            "left": null
          }
        }
      }
    }
  },
  "cells": [
    {
      "cell_type": "markdown",
      "metadata": {
        "id": "view-in-github",
        "colab_type": "text"
      },
      "source": [
        "<a href=\"https://colab.research.google.com/github/d-vasek/hello-world/blob/readme-edits/Colab_github_test.ipynb\" target=\"_parent\"><img src=\"https://colab.research.google.com/assets/colab-badge.svg\" alt=\"Open In Colab\"/></a>"
      ]
    },
    {
      "cell_type": "code",
      "metadata": {
        "colab": {
          "base_uri": "https://localhost:8080/"
        },
        "id": "OzsoyCZeVPSe",
        "outputId": "b6b04895-c88f-4615-b007-0a73703fe5a7"
      },
      "source": [
        "print(\"Hello world\")"
      ],
      "execution_count": 76,
      "outputs": [
        {
          "output_type": "stream",
          "text": [
            "Hello world\n"
          ],
          "name": "stdout"
        }
      ]
    },
    {
      "cell_type": "code",
      "metadata": {
        "id": "ZGXivo0wVy8x"
      },
      "source": [
        "#@title <center> Work Satisfaction Questionnaire </center>\r\n",
        "\r\n",
        "\r\n",
        "import ipywidgets as widgets"
      ],
      "execution_count": 77,
      "outputs": []
    },
    {
      "cell_type": "code",
      "metadata": {
        "id": "nCFdMeF3ZJOL"
      },
      "source": [
        "import ipywidgets as widgets"
      ],
      "execution_count": 78,
      "outputs": []
    },
    {
      "cell_type": "markdown",
      "metadata": {
        "id": "nvoiObU3uP9b"
      },
      "source": [
        "#### <center> Work satisfaction - what it is and why it matters? </center>\r\n",
        "\r\n",
        "\r\n",
        "\r\n",
        "\r\n",
        "\r\n",
        "\r\n",
        "\r\n"
      ]
    },
    {
      "cell_type": "code",
      "metadata": {
        "id": "Bxx7P9O3gv_p",
        "outputId": "169d59e1-c0fa-4ff6-f7aa-25fc43eb3e0c",
        "colab": {
          "base_uri": "https://localhost:8080/",
          "height": 141,
          "referenced_widgets": [
            "9fc2453d3e4a4a808cebd5862189a45b",
            "b425601384e441cda549f919a61aab15",
            "2343c6e967124da8b087f312d142c5cc",
            "a7e3c9f2f3a84ced90d591580ced028e",
            "49b591c315534610ad93696ac7aca71a",
            "cb9d3d429a624e3cb67319de844f7b2d",
            "67a6a93079c24a1080ea9a111d61f85c",
            "5393e55ac4e14cf0916f02e25fbf8a0f"
          ]
        }
      },
      "source": [
        "#@title <center> Please, select an answer to all the questions bellow </center>\r\n",
        "\r\n",
        "\r\n",
        "widgets.VBox(\r\n",
        "        [\r\n",
        "            widgets.Label(value=(\"I feel satisfied with my job\")),\r\n",
        "            widgets.RadioButtons(\r\n",
        "                options=[\"Agree\",\"Somewhat Agree\",\"Somewhat Disagee\",\"Disagree\"],\r\n",
        "                layout={'width': 'max-content'},\r\n",
        "            )\r\n",
        "        ],\r\n",
        "        layout=widgets.Layout(width='100%', display='flex',align_items='center'))"
      ],
      "execution_count": 80,
      "outputs": [
        {
          "output_type": "display_data",
          "data": {
            "application/vnd.jupyter.widget-view+json": {
              "model_id": "9fc2453d3e4a4a808cebd5862189a45b",
              "version_minor": 0,
              "version_major": 2
            },
            "text/plain": [
              "VBox(children=(Label(value='I feel satisfied with my job'), RadioButtons(layout=Layout(width='max-content'), o…"
            ]
          },
          "metadata": {
            "tags": []
          }
        }
      ]
    },
    {
      "cell_type": "code",
      "metadata": {
        "cellView": "form",
        "id": "gKjFZmioiNKj"
      },
      "source": [
        "#@title <center> Commented out stuff </center>\r\n",
        "\r\n",
        "\r\n",
        "# widgets.VBox(\r\n",
        "#         [\r\n",
        "#             widgets.Label(value=(\"I feel satisfied with my job\")),\r\n",
        "#             widgets.ToggleButtons(\r\n",
        "#     options=['Disagree', 'Somewhat Disagree', 'Somewhat Agree','Agree'],\r\n",
        "#     # description='Speed:',\r\n",
        "#     disabled=False,\r\n",
        "#     button_style='', # 'success', 'info', 'warning', 'danger' or ''\r\n",
        "#     tooltips=['Description of slow', 'Description of regular', 'Description of fast'],\r\n",
        "# #     icons=['check'] * 3\r\n",
        "# )\r\n",
        "#         ],\r\n",
        "#         layout=widgets.Layout(width='100%', display='flex',align_items='center'))"
      ],
      "execution_count": null,
      "outputs": []
    }
  ]
}