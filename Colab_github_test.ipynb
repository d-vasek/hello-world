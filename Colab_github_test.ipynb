{
  "nbformat": 4,
  "nbformat_minor": 0,
  "metadata": {
    "colab": {
      "name": "Colab_github_test.ipynb",
      "provenance": [],
      "authorship_tag": "ABX9TyMxURkamPQ/qkc9Yof2WfK/",
      "include_colab_link": true
    },
    "kernelspec": {
      "name": "python3",
      "display_name": "Python 3"
    },
    "widgets": {
      "application/vnd.jupyter.widget-state+json": {
        "6ac8e50ae0814b39a9d580c03db7ad7d": {
          "model_module": "@jupyter-widgets/controls",
          "model_name": "BoxModel",
          "state": {
            "_view_name": "BoxView",
            "_dom_classes": [],
            "_model_name": "BoxModel",
            "_view_module": "@jupyter-widgets/controls",
            "_model_module_version": "1.5.0",
            "_view_count": null,
            "_view_module_version": "1.5.0",
            "box_style": "",
            "layout": "IPY_MODEL_fe1ba57c9e7146768944b29de35f5225",
            "_model_module": "@jupyter-widgets/controls",
            "children": [
              "IPY_MODEL_76350f926a0d484da96f18b521c9cc16",
              "IPY_MODEL_d00ee66bbc6e417db586193fe32477bb"
            ]
          }
        },
        "fe1ba57c9e7146768944b29de35f5225": {
          "model_module": "@jupyter-widgets/base",
          "model_name": "LayoutModel",
          "state": {
            "_view_name": "LayoutView",
            "grid_template_rows": null,
            "right": null,
            "justify_content": null,
            "_view_module": "@jupyter-widgets/base",
            "overflow": null,
            "_model_module_version": "1.2.0",
            "_view_count": null,
            "flex_flow": null,
            "width": null,
            "min_width": null,
            "border": null,
            "align_items": null,
            "bottom": null,
            "_model_module": "@jupyter-widgets/base",
            "top": null,
            "grid_column": null,
            "overflow_y": null,
            "overflow_x": null,
            "grid_auto_flow": null,
            "grid_area": null,
            "grid_template_columns": null,
            "flex": null,
            "_model_name": "LayoutModel",
            "justify_items": null,
            "grid_row": null,
            "max_height": null,
            "align_content": null,
            "visibility": null,
            "align_self": null,
            "height": null,
            "min_height": null,
            "padding": null,
            "grid_auto_rows": null,
            "grid_gap": null,
            "max_width": null,
            "order": null,
            "_view_module_version": "1.2.0",
            "grid_template_areas": null,
            "object_position": null,
            "object_fit": null,
            "grid_auto_columns": null,
            "margin": null,
            "display": null,
            "left": null
          }
        },
        "76350f926a0d484da96f18b521c9cc16": {
          "model_module": "@jupyter-widgets/controls",
          "model_name": "LabelModel",
          "state": {
            "_view_name": "LabelView",
            "style": "IPY_MODEL_67d74c482dbc444c85bb96e68998176d",
            "_dom_classes": [],
            "description": "",
            "_model_name": "LabelModel",
            "placeholder": "​",
            "_view_module": "@jupyter-widgets/controls",
            "_model_module_version": "1.5.0",
            "value": "Label :",
            "_view_count": null,
            "_view_module_version": "1.5.0",
            "description_tooltip": null,
            "_model_module": "@jupyter-widgets/controls",
            "layout": "IPY_MODEL_0676e3e9f29a4d87b912908950261370"
          }
        },
        "d00ee66bbc6e417db586193fe32477bb": {
          "model_module": "@jupyter-widgets/controls",
          "model_name": "RadioButtonsModel",
          "state": {
            "_options_labels": [
              "Option 1",
              "Option 2",
              "Option 3",
              "Option 4 ...................... "
            ],
            "_view_name": "RadioButtonsView",
            "style": "IPY_MODEL_6abac11337644249b2ca9a0916a895d9",
            "_dom_classes": [],
            "description": "",
            "_model_name": "RadioButtonsModel",
            "index": 0,
            "_view_module": "@jupyter-widgets/controls",
            "_model_module_version": "1.5.0",
            "_view_count": null,
            "disabled": false,
            "_view_module_version": "1.5.0",
            "description_tooltip": null,
            "_model_module": "@jupyter-widgets/controls",
            "layout": "IPY_MODEL_0e1c880f3959491f8e56f55fb1c091b2"
          }
        },
        "67d74c482dbc444c85bb96e68998176d": {
          "model_module": "@jupyter-widgets/controls",
          "model_name": "DescriptionStyleModel",
          "state": {
            "_view_name": "StyleView",
            "_model_name": "DescriptionStyleModel",
            "description_width": "",
            "_view_module": "@jupyter-widgets/base",
            "_model_module_version": "1.5.0",
            "_view_count": null,
            "_view_module_version": "1.2.0",
            "_model_module": "@jupyter-widgets/controls"
          }
        },
        "0676e3e9f29a4d87b912908950261370": {
          "model_module": "@jupyter-widgets/base",
          "model_name": "LayoutModel",
          "state": {
            "_view_name": "LayoutView",
            "grid_template_rows": null,
            "right": null,
            "justify_content": null,
            "_view_module": "@jupyter-widgets/base",
            "overflow": null,
            "_model_module_version": "1.2.0",
            "_view_count": null,
            "flex_flow": null,
            "width": null,
            "min_width": null,
            "border": null,
            "align_items": null,
            "bottom": null,
            "_model_module": "@jupyter-widgets/base",
            "top": null,
            "grid_column": null,
            "overflow_y": null,
            "overflow_x": null,
            "grid_auto_flow": null,
            "grid_area": null,
            "grid_template_columns": null,
            "flex": null,
            "_model_name": "LayoutModel",
            "justify_items": null,
            "grid_row": null,
            "max_height": null,
            "align_content": null,
            "visibility": null,
            "align_self": null,
            "height": null,
            "min_height": null,
            "padding": null,
            "grid_auto_rows": null,
            "grid_gap": null,
            "max_width": null,
            "order": null,
            "_view_module_version": "1.2.0",
            "grid_template_areas": null,
            "object_position": null,
            "object_fit": null,
            "grid_auto_columns": null,
            "margin": null,
            "display": null,
            "left": null
          }
        },
        "6abac11337644249b2ca9a0916a895d9": {
          "model_module": "@jupyter-widgets/controls",
          "model_name": "DescriptionStyleModel",
          "state": {
            "_view_name": "StyleView",
            "_model_name": "DescriptionStyleModel",
            "description_width": "",
            "_view_module": "@jupyter-widgets/base",
            "_model_module_version": "1.5.0",
            "_view_count": null,
            "_view_module_version": "1.2.0",
            "_model_module": "@jupyter-widgets/controls"
          }
        },
        "0e1c880f3959491f8e56f55fb1c091b2": {
          "model_module": "@jupyter-widgets/base",
          "model_name": "LayoutModel",
          "state": {
            "_view_name": "LayoutView",
            "grid_template_rows": null,
            "right": null,
            "justify_content": null,
            "_view_module": "@jupyter-widgets/base",
            "overflow": null,
            "_model_module_version": "1.2.0",
            "_view_count": null,
            "flex_flow": null,
            "width": "max-content",
            "min_width": null,
            "border": null,
            "align_items": null,
            "bottom": null,
            "_model_module": "@jupyter-widgets/base",
            "top": null,
            "grid_column": null,
            "overflow_y": null,
            "overflow_x": null,
            "grid_auto_flow": null,
            "grid_area": null,
            "grid_template_columns": null,
            "flex": null,
            "_model_name": "LayoutModel",
            "justify_items": null,
            "grid_row": null,
            "max_height": null,
            "align_content": null,
            "visibility": null,
            "align_self": null,
            "height": null,
            "min_height": null,
            "padding": null,
            "grid_auto_rows": null,
            "grid_gap": null,
            "max_width": null,
            "order": null,
            "_view_module_version": "1.2.0",
            "grid_template_areas": null,
            "object_position": null,
            "object_fit": null,
            "grid_auto_columns": null,
            "margin": null,
            "display": null,
            "left": null
          }
        },
        "1149cfbb57c1446fb22b8d143f5b3018": {
          "model_module": "@jupyter-widgets/controls",
          "model_name": "ToggleButtonsModel",
          "state": {
            "_options_labels": [
              "Slow",
              "Regular",
              "Fast"
            ],
            "_view_name": "ToggleButtonsView",
            "style": "IPY_MODEL_1235993172ce4b0d994e276cd217193c",
            "_dom_classes": [],
            "description": "",
            "_model_name": "ToggleButtonsModel",
            "tooltips": [
              "Description of slow",
              "Description of regular",
              "Description of fast"
            ],
            "index": 2,
            "button_style": "",
            "_view_module": "@jupyter-widgets/controls",
            "_model_module_version": "1.5.0",
            "_view_count": null,
            "disabled": false,
            "_view_module_version": "1.5.0",
            "icons": [],
            "description_tooltip": null,
            "_model_module": "@jupyter-widgets/controls",
            "layout": "IPY_MODEL_3ef9ffde97134e7ba811290f5bd49fce"
          }
        },
        "1235993172ce4b0d994e276cd217193c": {
          "model_module": "@jupyter-widgets/controls",
          "model_name": "ToggleButtonsStyleModel",
          "state": {
            "_view_name": "StyleView",
            "button_width": "",
            "_model_name": "ToggleButtonsStyleModel",
            "description_width": "",
            "_view_module": "@jupyter-widgets/base",
            "_model_module_version": "1.5.0",
            "_view_count": null,
            "font_weight": "",
            "_view_module_version": "1.2.0",
            "_model_module": "@jupyter-widgets/controls"
          }
        },
        "3ef9ffde97134e7ba811290f5bd49fce": {
          "model_module": "@jupyter-widgets/base",
          "model_name": "LayoutModel",
          "state": {
            "_view_name": "LayoutView",
            "grid_template_rows": null,
            "right": null,
            "justify_content": null,
            "_view_module": "@jupyter-widgets/base",
            "overflow": null,
            "_model_module_version": "1.2.0",
            "_view_count": null,
            "flex_flow": null,
            "width": null,
            "min_width": null,
            "border": null,
            "align_items": null,
            "bottom": null,
            "_model_module": "@jupyter-widgets/base",
            "top": null,
            "grid_column": null,
            "overflow_y": null,
            "overflow_x": null,
            "grid_auto_flow": null,
            "grid_area": null,
            "grid_template_columns": null,
            "flex": null,
            "_model_name": "LayoutModel",
            "justify_items": null,
            "grid_row": null,
            "max_height": null,
            "align_content": null,
            "visibility": null,
            "align_self": null,
            "height": null,
            "min_height": null,
            "padding": null,
            "grid_auto_rows": null,
            "grid_gap": null,
            "max_width": null,
            "order": null,
            "_view_module_version": "1.2.0",
            "grid_template_areas": null,
            "object_position": null,
            "object_fit": null,
            "grid_auto_columns": null,
            "margin": null,
            "display": null,
            "left": null
          }
        }
      }
    }
  },
  "cells": [
    {
      "cell_type": "markdown",
      "metadata": {
        "id": "view-in-github",
        "colab_type": "text"
      },
      "source": [
        "<a href=\"https://colab.research.google.com/github/d-vasek/hello-world/blob/readme-edits/Colab_github_test.ipynb\" target=\"_parent\"><img src=\"https://colab.research.google.com/assets/colab-badge.svg\" alt=\"Open In Colab\"/></a>"
      ]
    },
    {
      "cell_type": "code",
      "metadata": {
        "colab": {
          "base_uri": "https://localhost:8080/"
        },
        "id": "OzsoyCZeVPSe",
        "outputId": "a5f48044-1755-4351-e938-e809615ff7ff"
      },
      "source": [
        "print(\"Hello world\")"
      ],
      "execution_count": null,
      "outputs": [
        {
          "output_type": "stream",
          "text": [
            "Hello world\n"
          ],
          "name": "stdout"
        }
      ]
    },
    {
      "cell_type": "code",
      "metadata": {
        "id": "ZGXivo0wVy8x"
      },
      "source": [
        "#@title <center> Title </center>\r\n",
        "\r\n",
        "\r\n"
      ],
      "execution_count": 4,
      "outputs": []
    },
    {
      "cell_type": "code",
      "metadata": {
        "id": "nCFdMeF3ZJOL"
      },
      "source": [
        "import ipywidgets as widgets"
      ],
      "execution_count": 5,
      "outputs": []
    },
    {
      "cell_type": "code",
      "metadata": {
        "id": "jK_ycPHdZJuK",
        "outputId": "69fad6c3-c775-4d14-974f-b064de125b7a",
        "colab": {
          "base_uri": "https://localhost:8080/",
          "height": 101,
          "referenced_widgets": [
            "6ac8e50ae0814b39a9d580c03db7ad7d",
            "fe1ba57c9e7146768944b29de35f5225",
            "76350f926a0d484da96f18b521c9cc16",
            "d00ee66bbc6e417db586193fe32477bb",
            "67d74c482dbc444c85bb96e68998176d",
            "0676e3e9f29a4d87b912908950261370",
            "6abac11337644249b2ca9a0916a895d9",
            "0e1c880f3959491f8e56f55fb1c091b2"
          ]
        }
      },
      "source": [
        "widgets.Box(\r\n",
        "    [\r\n",
        "        widgets.Label(value='Label :'),\r\n",
        "        widgets.RadioButtons(\r\n",
        "            options=[\r\n",
        "                'Option 1',\r\n",
        "                'Option 2',\r\n",
        "                'Option 3',\r\n",
        "                'Option 4 ...................... '\r\n",
        "            ],\r\n",
        "            layout={'width': 'max-content'}\r\n",
        "        )\r\n",
        "    ]\r\n",
        ")\r\n",
        "\r\n",
        "\r\n",
        "    HBox([Label('A description',layout=label_layout), IntSlider()])\r\n"
      ],
      "execution_count": 11,
      "outputs": [
        {
          "output_type": "display_data",
          "data": {
            "application/vnd.jupyter.widget-view+json": {
              "model_id": "6ac8e50ae0814b39a9d580c03db7ad7d",
              "version_minor": 0,
              "version_major": 2
            },
            "text/plain": [
              "Box(children=(Label(value='Label :'), RadioButtons(layout=Layout(width='max-content'), options=('Option 1', 'O…"
            ]
          },
          "metadata": {
            "tags": []
          }
        }
      ]
    },
    {
      "cell_type": "code",
      "metadata": {
        "id": "QdGHiU3LanpV",
        "outputId": "41886f40-8602-41fe-de5b-388382ace050",
        "colab": {
          "base_uri": "https://localhost:8080/",
          "height": 50,
          "referenced_widgets": [
            "1149cfbb57c1446fb22b8d143f5b3018",
            "1235993172ce4b0d994e276cd217193c",
            "3ef9ffde97134e7ba811290f5bd49fce"
          ]
        }
      },
      "source": [
        "widgets.ToggleButtons(\r\n",
        "    options=['Slow', 'Regular', 'Fast'],\r\n",
        "    # description='Speed:',\r\n",
        "    disabled=False,\r\n",
        "    button_style='', # 'success', 'info', 'warning', 'danger' or ''\r\n",
        "    tooltips=['Description of slow', 'Description of regular', 'Description of fast'],\r\n",
        "#     icons=['check'] * 3\r\n",
        ")"
      ],
      "execution_count": 15,
      "outputs": [
        {
          "output_type": "display_data",
          "data": {
            "application/vnd.jupyter.widget-view+json": {
              "model_id": "1149cfbb57c1446fb22b8d143f5b3018",
              "version_minor": 0,
              "version_major": 2
            },
            "text/plain": [
              "ToggleButtons(options=('Slow', 'Regular', 'Fast'), tooltips=('Description of slow', 'Description of regular', …"
            ]
          },
          "metadata": {
            "tags": []
          }
        }
      ]
    }
  ]
}